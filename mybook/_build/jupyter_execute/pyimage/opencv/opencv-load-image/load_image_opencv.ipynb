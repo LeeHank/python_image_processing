{
 "cells": [
  {
   "cell_type": "markdown",
   "metadata": {},
   "source": [
    "# Loading and Displaying Images"
   ]
  },
  {
   "cell_type": "markdown",
   "metadata": {},
   "source": [
    "## 重點："
   ]
  },
  {
   "cell_type": "markdown",
   "metadata": {},
   "source": [
    "```python\n",
    "import cv2\n",
    "\n",
    "# 讀檔\n",
    "img = cv2.imread(\"your_path_to_img.png\")\n",
    "\n",
    "# show image\n",
    "cv2.imshow(\"my title of image window\", img) # 跳出 image window\n",
    "cv2.waitKey(0) # 要等鍵盤按下任意鍵，才會關閉視窗\n",
    "cv2.waitKey(3000) # 3000 毫秒後，關閉視窗\n",
    "\n",
    "# write\n",
    "cv2.imwrite(\"path_to_save_file_name.png\", img)\n",
    "```"
   ]
  },
  {
   "cell_type": "markdown",
   "metadata": {},
   "source": [
    "## py 檔"
   ]
  },
  {
   "cell_type": "markdown",
   "metadata": {},
   "source": [
    "* `load_image_opencv.py` 的內容"
   ]
  },
  {
   "cell_type": "markdown",
   "metadata": {},
   "source": [
    "```python\n",
    "import argparse\n",
    "import cv2\n",
    "\n",
    "# construct the argument parser and parse the arguments\n",
    "ap = argparse.ArgumentParser()\n",
    "ap.add_argument(\"-i\", \"--image\", required=True,\n",
    "\thelp=\"path to input image\")\n",
    "args = vars(ap.parse_args())\n",
    "\n",
    "# load the image from disk via \"cv2.imread\" and then grab the spatial\n",
    "# dimensions, including width, height, and number of channels\n",
    "image = cv2.imread(args[\"image\"])\n",
    "(h, w, c) = image.shape[:3]\n",
    "\n",
    "# display the image width, height, and number of channels to our\n",
    "# terminal\n",
    "print(\"width: {} pixels\".format(w))\n",
    "print(\"height: {}  pixels\".format(h))\n",
    "print(\"channels: {}\".format(c))\n",
    "\n",
    "# show the image and wait for a keypress\n",
    "cv2.imshow(\"Image\", image)\n",
    "cv2.waitKey(0) # 按下任意 key 後，程式才會往下執行\n",
    "\n",
    "# save the image back to disk (OpenCV handles converting image filetypes automatically)\n",
    "cv2.imwrite(\"newimage.jpg\", image)\n",
    "```"
   ]
  },
  {
   "cell_type": "markdown",
   "metadata": {},
   "source": [
    "* 在 terminal 中，執行： `python load_image_opencv.py --image jurassic_park.png`，就可以得到結果"
   ]
  }
 ],
 "metadata": {
  "kernelspec": {
   "display_name": "Python 3",
   "language": "python",
   "name": "python3"
  },
  "language_info": {
   "codemirror_mode": {
    "name": "ipython",
    "version": 3
   },
   "file_extension": ".py",
   "mimetype": "text/x-python",
   "name": "python",
   "nbconvert_exporter": "python",
   "pygments_lexer": "ipython3",
   "version": "3.8.0"
  }
 },
 "nbformat": 4,
 "nbformat_minor": 4
}