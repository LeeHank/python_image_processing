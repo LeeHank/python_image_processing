{
 "cells": [
  {
   "cell_type": "markdown",
   "metadata": {},
   "source": [
    "# Image Processing Cheatsheet"
   ]
  },
  {
   "cell_type": "markdown",
   "metadata": {},
   "source": [
    "## Read, save, show"
   ]
  },
  {
   "cell_type": "markdown",
   "metadata": {},
   "source": [
    "| package  | read function                                                                                                                                                      | show function                                                                                                  | save function                                                                                  | type                       | channel | dimension (color img)    | dimension (gray img)                                      | value range | value type |\n",
    "|----------|--------------------------------------------------------------------------------------------------------------------------------------------------------------------|----------------------------------------------------------------------------------------------------------------|------------------------------------------------------------------------------------------------|----------------------------|---------|--------------------------|-----------------------------------------------------------|-------------|------------|\n",
    "| plt      | import matplotlib.pyplot as plt<br><br>img_array = plt.imread(\"xx.jpg\")                                                                                            | plt.show(img_array)                                                                                            | plt.imsave('xx.png', img_array)                                                                | ndarray                    | R, G, B | (height, width, channel) | (height, width)                                           | [0-255]     | uint8      |\n",
    "| PIL      | import np<br>from PIL import Image<br><br>img_obj = Image.open(\"xx.jpg\")<br>img_array = np.asarray(img_obj)                                                        | img<br><br>plt.imshow(img_array)                                                                               | img_obj.save(\"xx.jpeg\")<br><br>img_obj = Image.fromarray(img_array)<br>img_obj.save(\"xx.jpeg\") | <br><br><br>PIL<br>ndarray | R, G, B | (height, width, channel) | (height, width, channel)<br># channel = 3<br># same value | [0-255]     | uint8      |\n",
    "| tf.keras | from tensorflow.keras.preprocessing.image import <br>load_img, img_to_array, array_to_img<br><br>img_obj = load_img(\"xx.jpg\")<br>img_array = img_to_array(img_obj) | img<br>plt.imshow(img_array)                                                                                   | img_obj.save(\"xx.jpeg\")<br><br>img_obj = array_to_img(img_array)<br>img_obj.save(\"xx.jpeg\")    | <br><br>PIL<br>ndarray     | R, G, B | (height, width, channel) | (height, width, channel)                                  | [0.-255.]   | float32    |\n",
    "| cv2      | import cv2<br>img_array = cv2.imread(\"xx.jpg\")                                                                                                                     | plt.imshow(img_array)<br><br>cv2.imshow(\"window_name\", img_array)<br>cv2.waitKey(0)<br>cv2.destroyAllWindows() | cv2.imwrite('xx.png', img_array)                                                               | ndarray                    | B, G, R | (height, width, channel) | (height, width, channel)                                  | [0-255]     | uint8      |"
   ]
  },
  {
   "cell_type": "code",
   "execution_count": null,
   "metadata": {},
   "outputs": [],
   "source": []
  }
 ],
 "metadata": {
  "kernelspec": {
   "display_name": "Python 3",
   "language": "python",
   "name": "python3"
  },
  "language_info": {
   "codemirror_mode": {
    "name": "ipython",
    "version": 3
   },
   "file_extension": ".py",
   "mimetype": "text/x-python",
   "name": "python",
   "nbconvert_exporter": "python",
   "pygments_lexer": "ipython3",
   "version": "3.8.0"
  }
 },
 "nbformat": 4,
 "nbformat_minor": 4
}